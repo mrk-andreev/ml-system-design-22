{
 "cells": [
  {
   "cell_type": "markdown",
   "id": "14fe311f",
   "metadata": {},
   "source": [
    "# Eval IOU on yolo"
   ]
  },
  {
   "cell_type": "code",
   "execution_count": 1,
   "id": "3ea1b010",
   "metadata": {},
   "outputs": [],
   "source": [
    "import matplotlib.pylab as plt\n",
    "%matplotlib inline\n",
    "import cv2\n",
    "from glob import glob\n",
    "\n",
    "import pandas as pd\n",
    "import numpy as np\n",
    "from tqdm import tqdm"
   ]
  },
  {
   "cell_type": "code",
   "execution_count": 2,
   "id": "93cd3065",
   "metadata": {},
   "outputs": [],
   "source": [
    "# metric\n",
    "def get_iou(boxA, boxB):\n",
    "    \"\"\"\n",
    "    Calculate the Intersection over Union (IoU) of two bounding boxes.\n",
    "    Parameters\n",
    "    ----------\n",
    "    boxA = np.array( [ xmin,ymin,xmax,ymax ] )\n",
    "    boxB = np.array( [ xmin,ymin,xmax,ymax ] )\n",
    "    Returns\n",
    "    -------\n",
    "    float\n",
    "    in [0, 1]\n",
    "    \"\"\"\n",
    "\n",
    "    bb1 = dict()\n",
    "    bb1['x1'] = boxA[0]\n",
    "    bb1['y1'] = boxA[1]\n",
    "    bb1['x2'] = boxA[2]\n",
    "    bb1['y2'] = boxA[3]\n",
    "\n",
    "    bb2 = dict()\n",
    "    bb2['x1'] = boxB[0]\n",
    "    bb2['y1'] = boxB[1]\n",
    "    bb2['x2'] = boxB[2]\n",
    "    bb2['y2'] = boxB[3]\n",
    "\n",
    "    # Determine the coordinates of the intersection rectangle\n",
    "    x_left = max(bb1['x1'], bb2['x1'])\n",
    "    y_top = max(bb1['y1'], bb2['y1'])\n",
    "    x_right = min(bb1['x2'], bb2['x2'])\n",
    "    y_bottom = min(bb1['y2'], bb2['y2'])\n",
    "\n",
    "    if x_right < x_left or y_bottom < y_top:\n",
    "        #print('check')\n",
    "        return 0.0\n",
    "\n",
    "    # The intersection of two axis-aligned bounding boxes is always an\n",
    "    # axis-aligned bounding box\n",
    "    intersection_area = (x_right - x_left) * (y_bottom - y_top)\n",
    "\n",
    "    # Compute the area of both bounding boxes area\n",
    "    bb1_area = (bb1['x2'] - bb1['x1']) * (bb1['y2'] - bb1['y1'])\n",
    "    bb2_area = (bb2['x2'] - bb2['x1']) * (bb2['y2'] - bb2['y1'])\n",
    "\n",
    "    # Compute the intersection over union by taking the intersection\n",
    "    # area and dividing it by the sum of prediction + ground-truth\n",
    "    # areas - the intersection area\n",
    "    iou = intersection_area / float(bb1_area + bb2_area - intersection_area)\n",
    "\n",
    "    assert iou >= 0.0\n",
    "    assert iou <= 1.0\n",
    "\n",
    "    return iou"
   ]
  },
  {
   "cell_type": "code",
   "execution_count": 3,
   "id": "3ba2b15a",
   "metadata": {},
   "outputs": [],
   "source": [
    "face_cascade = cv2.CascadeClassifier('../v0_prototype/data/haarcascade_frontalface_default.xml')\n",
    "path = '../../../WIDER_val/images/*/*.jpg'\n",
    "labels = pd.read_csv('../../../wider_face_split/wider_face_val_bbx_gt.txt', header=None)"
   ]
  },
  {
   "cell_type": "code",
   "execution_count": 5,
   "id": "757c4735",
   "metadata": {},
   "outputs": [
    {
     "name": "stderr",
     "output_type": "stream",
     "text": [
      "100%|███████████████████████████████████████| 3226/3226 [19:27<00:00,  2.76it/s]\n"
     ]
    },
    {
     "data": {
      "text/plain": [
       "0.2837784039271598"
      ]
     },
     "execution_count": 5,
     "metadata": {},
     "output_type": "execute_result"
    }
   ],
   "source": [
    "sum_iou = 0\n",
    "cnt = 0\n",
    "for filename in tqdm(glob(path)):\n",
    "    # read data\n",
    "    img = cv2.imread(filename)\n",
    "    gray = cv2.cvtColor(img, cv2.COLOR_BGR2GRAY)\n",
    "    faces = face_cascade.detectMultiScale(gray, 1.1, 4)\n",
    "    name = filename[len('../../../WIDER_val/images/'):]\n",
    "\n",
    "    # predict\n",
    "    for (x, y, w, h) in faces:\n",
    "        cv2.rectangle(img, (x, y), (x+w, y+h), (0, 0, 255), 2)\n",
    "    y_pred = [[int(i) for i in list(j)] for j in faces]\n",
    "\n",
    "    # fact\n",
    "    ind_lab = labels[labels[0] == name].index[0]\n",
    "    num_faces = int(labels.iloc[ind_lab+1][0])\n",
    "    y_true = np.array(list(labels.iloc[ind_lab+2:ind_lab+num_faces+2][0] \\\n",
    "        .apply(lambda x: x.split()[:4]).apply(lambda x: [int(i) for i in x])))\n",
    "    \n",
    "    # correct for metric\n",
    "    for i in range(len(y_pred)):\n",
    "        y_pred[i][2] = y_pred[i][2] + y_pred[i][0]\n",
    "        y_pred[i][3] = y_pred[i][3] + y_pred[i][1]\n",
    "    for i in range(len(y_true)):\n",
    "        y_true[i][2] = y_true[i][2] + y_true[i][0]\n",
    "        y_true[i][3] = y_true[i][3] + y_true[i][1]\n",
    "        \n",
    "    # evaluate\n",
    "    total_iou = 0\n",
    "    pred_dict = dict()\n",
    "    for gt in y_true:\n",
    "        max_iou_per_gt = 0\n",
    "        for i, pred in enumerate(y_pred):\n",
    "            if i not in pred_dict.keys():\n",
    "                pred_dict[i] = 0\n",
    "            iou = get_iou(gt, pred)\n",
    "            if iou > max_iou_per_gt:\n",
    "                max_iou_per_gt = iou\n",
    "            if iou > pred_dict[i]:\n",
    "                pred_dict[i] = iou\n",
    "        total_iou = total_iou + max_iou_per_gt\n",
    "    iou = total_iou / len(y_true)\n",
    "    \n",
    "    sum_iou += iou\n",
    "    cnt += 1\n",
    "total_iou = sum_iou / cnt\n",
    "total_iou"
   ]
  },
  {
   "cell_type": "code",
   "execution_count": null,
   "id": "c0c5e7a3",
   "metadata": {},
   "outputs": [],
   "source": []
  },
  {
   "cell_type": "code",
   "execution_count": null,
   "id": "e00ba6f9",
   "metadata": {},
   "outputs": [],
   "source": []
  },
  {
   "cell_type": "code",
   "execution_count": null,
   "id": "7b4cbfbc",
   "metadata": {},
   "outputs": [],
   "source": []
  }
 ],
 "metadata": {
  "kernelspec": {
   "display_name": "Python 3 (ipykernel)",
   "language": "python",
   "name": "python3"
  },
  "language_info": {
   "codemirror_mode": {
    "name": "ipython",
    "version": 3
   },
   "file_extension": ".py",
   "mimetype": "text/x-python",
   "name": "python",
   "nbconvert_exporter": "python",
   "pygments_lexer": "ipython3",
   "version": "3.8.10"
  }
 },
 "nbformat": 4,
 "nbformat_minor": 5
}
